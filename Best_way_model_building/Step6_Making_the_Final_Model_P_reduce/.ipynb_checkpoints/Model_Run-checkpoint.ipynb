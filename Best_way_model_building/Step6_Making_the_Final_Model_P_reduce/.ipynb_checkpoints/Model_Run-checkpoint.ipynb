{
 "cells": [
  {
   "cell_type": "code",
   "execution_count": 1,
   "id": "d3c453b6-e44f-4c5f-bf21-a9fe25544c75",
   "metadata": {},
   "outputs": [
    {
     "data": {
      "application/javascript": [
       "IPython.notebook.set_autosave_interval(20000)"
      ]
     },
     "metadata": {},
     "output_type": "display_data"
    },
    {
     "name": "stdout",
     "output_type": "stream",
     "text": [
      "Autosaving every 20 seconds\n"
     ]
    }
   ],
   "source": [
    "from IPython.core.interactiveshell import InteractiveShell\n",
    "InteractiveShell.ast_node_interactivity = \"all\"\n",
    "%autosave 20"
   ]
  },
  {
   "cell_type": "code",
   "execution_count": 2,
   "id": "e6587582-4314-4f97-8efd-81b06eacdee1",
   "metadata": {},
   "outputs": [],
   "source": [
    "from model.model import Net"
   ]
  },
  {
   "cell_type": "code",
   "execution_count": 3,
   "id": "c92f12cc-0756-43f6-a0ac-ba2a2e97ec7a",
   "metadata": {},
   "outputs": [],
   "source": [
    "import warnings\n",
    "warnings.filterwarnings('ignore')"
   ]
  },
  {
   "cell_type": "code",
   "execution_count": 4,
   "id": "5cf6b458-27a5-4e81-a48c-86582fc26efb",
   "metadata": {},
   "outputs": [],
   "source": [
    "import torch\n",
    "from model.model import Net\n",
    "from utils.optimizer import get_optimizer,run_lrfinder\n",
    "from utils.model_fit import training,testing\n",
    "from utils.data_loader import MNISTDataLoader\n",
    "from torch import nn\n",
    "import json\n",
    "import plotext as plt\n",
    "import numpy as np\n",
    "import random\n",
    "import os\n",
    "import sys\n",
    "from rf_calc import receptive_field\n",
    "from torchsummary import summary\n",
    "from torch.utils.tensorboard import SummaryWriter\n",
    "import torchvision\n",
    "from itertools import islice\n",
    "import datetime\n",
    "import argparse"
   ]
  },
  {
   "cell_type": "code",
   "execution_count": 5,
   "id": "cdeff4fe-e092-4199-b2a0-622e33f3a6cc",
   "metadata": {},
   "outputs": [],
   "source": [
    "def set_seed(seed):\n",
    "    torch.manual_seed(seed)\n",
    "    if torch.cuda.is_available():\n",
    "        torch.cuda.manual_seed(seed)\n",
    "    np.random.seed(seed)\n",
    "    random.seed(seed)\n",
    "    # If using torch.backends.cudnn, set the following for reproducibility\n",
    "    torch.backends.cudnn.deterministic = True\n",
    "    torch.backends.cudnn.benchmark = False\n",
    "\n",
    "\n",
    "def get_model(device):\n",
    "    model = Net().to(device)\n",
    "    # model = model.float()\n",
    "    return model"
   ]
  },
  {
   "cell_type": "code",
   "execution_count": 6,
   "id": "5b728be3-906a-4f6b-8326-22df0f4acad9",
   "metadata": {},
   "outputs": [],
   "source": [
    "def run_model(model,device,batch_size,epochs,optimizer,scheduler,use_scheduler,best_model,version=\"v1\",notes=\"\"):\n",
    "    # Create unique run name with version and timestamp\n",
    "    timestamp = datetime.datetime.now().strftime('%Y%m%d_%H%M%S')\n",
    "    run_name = f\"experiment_{version}_{timestamp}\"\n",
    "    current_lr = optimizer.param_groups[0]['lr']\n",
    "    train_losses = []\n",
    "    train_accuracy = []\n",
    "    test_losses =[]\n",
    "    test_accuracy = []\n",
    "    print(summary(model, (1,28, 28 )))\n",
    "    # _ = receptive_field(model,28)\n",
    "    \n",
    "    for EPOCHS in range(0,epochs):\n",
    "        train_loss, train_acc = training(model,device,train_loader,optimizer,EPOCHS)\n",
    "        train_losses.append(train_loss)\n",
    "        train_accuracy.append(train_acc)\n",
    "\n",
    "        test_loss,test_acc = testing(model,device,test_loader,EPOCHS)\n",
    "        test_accuracy.append(test_acc)\n",
    "        test_losses.append(test_loss)    \n",
    "        if (scheduler_type == 'reducelronplateau') & (use_scheduler ==True):\n",
    "            scheduler.step(test_loss)\n",
    "            current_lr = optimizer.param_groups[0]['lr']\n",
    "        elif (scheduler_type == 'steplr') & (use_scheduler ==True):\n",
    "            scheduler.step()\n",
    "            current_lr = scheduler.get_last_lr()[0]\n",
    "        else:\n",
    "            current_lr = optimizer.param_groups[0]['lr']\n",
    "\n",
    "        try:\n",
    "            if len(test_accuracy) > 1:\n",
    "                if (EPOCHS >= 3 and \n",
    "                    max(test_accuracy[:-1]) < test_accuracy[-1] and \n",
    "                    max(test_accuracy) >= best_model):\n",
    "                    \n",
    "                    checkpoint = {\n",
    "                        'epoch': EPOCHS + 1,\n",
    "                        'valid_loss_min': test_losses[-1],\n",
    "                        'state_dict': model.state_dict(),\n",
    "                        'optimizer': optimizer.state_dict(),\n",
    "                    }\n",
    "                    \n",
    "                    file_name = f\"./model_folder/modelbest_{test_accuracy[-1]:.4f}_epoch_{EPOCHS}.pt\"\n",
    "                    torch.save(checkpoint, file_name)\n",
    "                    print(f\"Target Achieved: {max(test_accuracy) * 100:.2f}% Test Accuracy!!\")\n",
    "                else:\n",
    "                    print(\"Conditions not met for saving the model.\")\n",
    "            else:\n",
    "                print(\"Insufficient test accuracy data.\")\n",
    "        except Exception as e:\n",
    "            print(f\"Model saving failed: {e}\")\n",
    "\n",
    "        print(f\"LR: {current_lr}\\n\")\n",
    "    return model,train_losses, train_accuracy,test_losses,test_accuracy"
   ]
  },
  {
   "cell_type": "code",
   "execution_count": 7,
   "id": "01eec0bd-75b1-42ba-b5d9-3eeee3d4fb71",
   "metadata": {},
   "outputs": [],
   "source": [
    "def load_config():\n",
    "    with open('config.json', 'r') as f:\n",
    "        return json.load(f)"
   ]
  },
  {
   "cell_type": "code",
   "execution_count": 8,
   "id": "4d286676-56f4-4ac1-8342-23eeede195cf",
   "metadata": {},
   "outputs": [],
   "source": [
    "def get_loss_function(loss_type):\n",
    "    if loss_type is None:\n",
    "        return nn.NLLLoss()   \n",
    "    loss_types = {\n",
    "        'cross_entropy': nn.CrossEntropyLoss(),\n",
    "        'mse': nn.MSELoss(),\n",
    "        'nll': nn.NLLLoss()\n",
    "    }\n",
    "    return loss_types.get(loss_type.lower(), nn.CrossEntropyLoss())"
   ]
  },
  {
   "cell_type": "code",
   "execution_count": 9,
   "id": "22e83976-b7e0-401b-a029-e69fa6bcc8df",
   "metadata": {},
   "outputs": [],
   "source": [
    "config = load_config()\n",
    "\n",
    "# Set seed from config\n",
    "set_seed(config['seed'])"
   ]
  },
  {
   "cell_type": "code",
   "execution_count": 10,
   "id": "bb38c594-e9ef-44f3-97e4-298d0c96780e",
   "metadata": {},
   "outputs": [],
   "source": [
    "# Set device\n",
    "device = \"cuda\" if torch.cuda.is_available() else \"cpu\"\n",
    "# Get loss function and scheduler settings from config\n",
    "loss_fn = get_loss_function(config['training'].get('loss_type'))\n",
    "use_scheduler = config['training'].get('use_scheduler', False)\n",
    "scheduler_type = config['training'].get('scheduler_type', 'steplr')\n",
    "runlr_finer = config['training'].get('runlr_finer', False)\n",
    "use_scheduler = bool(use_scheduler)\n",
    "runlr_finer = bool(runlr_finer)"
   ]
  },
  {
   "cell_type": "code",
   "execution_count": 11,
   "id": "e5f0929f-fad4-4ceb-8350-4c3efd0b650d",
   "metadata": {},
   "outputs": [],
   "source": [
    "best_model = config['best_model']\n",
    "version = 'v1'\n",
    "notes = config['training'].get('notes', '')"
   ]
  },
  {
   "cell_type": "code",
   "execution_count": 12,
   "id": "270bd482-7696-4a53-9301-a96e657e52b8",
   "metadata": {},
   "outputs": [],
   "source": [
    "# Set seed from config\n",
    "_ = torch.manual_seed(config['seed'])\n",
    "if torch.cuda.is_available():\n",
    "    _ = torch.cuda.manual_seed(config['seed'])"
   ]
  },
  {
   "cell_type": "code",
   "execution_count": 13,
   "id": "868b7d2e-cdc4-46ae-9116-20ed44763f4a",
   "metadata": {},
   "outputs": [],
   "source": [
    "# Get batch size based on device\n",
    "batch_size = config['training']['batch_size']\n",
    "epochs = config['training']['epochs']"
   ]
  },
  {
   "cell_type": "code",
   "execution_count": 14,
   "id": "346d405c-1326-4dcd-b95b-b76485453c7e",
   "metadata": {},
   "outputs": [],
   "source": [
    "model = get_model(device)\n",
    "data_loader = MNISTDataLoader(batch_size=batch_size)\n",
    "train_loader, test_loader = data_loader.get_data_loaders()"
   ]
  },
  {
   "cell_type": "code",
   "execution_count": 15,
   "id": "cfa86c88-0273-4ec1-8f0d-b5eaf93f19c9",
   "metadata": {},
   "outputs": [
    {
     "name": "stderr",
     "output_type": "stream",
     "text": [
      "100%|█████████████████████████████████████████████████████████████████████████████████████████████████████| 1500/1500 [00:30<00:00, 49.33it/s]\n"
     ]
    },
    {
     "name": "stdout",
     "output_type": "stream",
     "text": [
      "Learning rate search finished. See the graph with {finder_name}.plot()\n",
      "LR suggestion: steepest gradient\n",
      "Suggested LR: 1.05E-01\n"
     ]
    },
    {
     "data": {
      "image/png": "[encoded data removed]",
      "text/plain": [
       "<Figure size 640x480 with 1 Axes>"
      ]
     },
     "metadata": {},
     "output_type": "display_data"
    },
    {
     "name": "stdout",
     "output_type": "stream",
     "text": [
      "Loss: 0.07525263255573485 LR: 0.10470379786343671\n",
      "[0.10470379786343671]\n"
     ]
    }
   ],
   "source": [
    "if runlr_finer:\n",
    "    lrs,_ = run_lrfinder(\n",
    "        model, \n",
    "        device, \n",
    "        train_loader, \n",
    "        test_loader, \n",
    "        start_lr=config['training']['start_lr'],\n",
    "        end_lr=config['training']['end_lr'],\n",
    "            lr_iter=config['training'].get('lr_iter', 1000)\n",
    "        )\n",
    "    print(lrs)\n",
    "else:\n",
    "    lrs = [0.015]"
   ]
  },
  {
   "cell_type": "code",
   "execution_count": 16,
   "id": "2ea0c196-872c-4a7e-9282-ad159bc94daf",
   "metadata": {},
   "outputs": [],
   "source": [
    "optimizer,scheduler = get_optimizer(model,scheduler = use_scheduler,\\\n",
    "                          scheduler_type = scheduler_type,lr = lrs[0])"
   ]
  },
  {
   "cell_type": "code",
   "execution_count": 17,
   "id": "885ef5e0-34dc-49d5-aa00-51c2c47d5361",
   "metadata": {},
   "outputs": [
    {
     "name": "stdout",
     "output_type": "stream",
     "text": [
      "----------------------------------------------------------------\n",
      "        Layer (type)               Output Shape         Param #\n",
      "================================================================\n",
      "            Conv2d-1           [-1, 10, 26, 26]              90\n",
      "       BatchNorm2d-2           [-1, 10, 26, 26]              20\n",
      "              ReLU-3           [-1, 10, 26, 26]               0\n",
      "           Dropout-4           [-1, 10, 26, 26]               0\n",
      "            Conv2d-5           [-1, 10, 24, 24]             900\n",
      "       BatchNorm2d-6           [-1, 10, 24, 24]              20\n",
      "              ReLU-7           [-1, 10, 24, 24]               0\n",
      "           Dropout-8           [-1, 10, 24, 24]               0\n",
      "            Conv2d-9           [-1, 15, 22, 22]           1,350\n",
      "      BatchNorm2d-10           [-1, 15, 22, 22]              30\n",
      "             ReLU-11           [-1, 15, 22, 22]               0\n",
      "          Dropout-12           [-1, 15, 22, 22]               0\n",
      "        MaxPool2d-13           [-1, 15, 11, 11]               0\n",
      "           Conv2d-14           [-1, 10, 11, 11]             150\n",
      "      BatchNorm2d-15           [-1, 10, 11, 11]              20\n",
      "             ReLU-16           [-1, 10, 11, 11]               0\n",
      "          Dropout-17           [-1, 10, 11, 11]               0\n",
      "           Conv2d-18             [-1, 10, 9, 9]             900\n",
      "      BatchNorm2d-19             [-1, 10, 9, 9]              20\n",
      "             ReLU-20             [-1, 10, 9, 9]               0\n",
      "          Dropout-21             [-1, 10, 9, 9]               0\n",
      "           Conv2d-22             [-1, 10, 7, 7]             900\n",
      "      BatchNorm2d-23             [-1, 10, 7, 7]              20\n",
      "             ReLU-24             [-1, 10, 7, 7]               0\n",
      "          Dropout-25             [-1, 10, 7, 7]               0\n",
      "           Conv2d-26             [-1, 10, 5, 5]             900\n",
      "      BatchNorm2d-27             [-1, 10, 5, 5]              20\n",
      "             ReLU-28             [-1, 10, 5, 5]               0\n",
      "          Dropout-29             [-1, 10, 5, 5]               0\n",
      "AdaptiveAvgPool2d-30             [-1, 10, 1, 1]               0\n",
      "================================================================\n",
      "Total params: 5,340\n",
      "Trainable params: 5,340\n",
      "Non-trainable params: 0\n",
      "----------------------------------------------------------------\n",
      "Input size (MB): 0.00\n",
      "Forward/backward pass size (MB): 0.70\n",
      "Params size (MB): 0.02\n",
      "Estimated Total Size (MB): 0.73\n",
      "----------------------------------------------------------------\n",
      "None\n"
     ]
    },
    {
     "name": "stderr",
     "output_type": "stream",
     "text": [
      "Train ==> Epochs: 0 Batch:  468 loss: 0.08429612964391708 Accuracy: 93.73% : 100%|\u001b[33m██████████████████████████\u001b[0m| 469/469 [00:10<00:00, 43.06it/s]\u001b[0m\n",
      "Test ==> Epochs: 0 Batch:  78 loss: 0.04751643937379122 Accuracy: 98.44% : 100%|█████████████████████████████| 79/79 [00:00<00:00, 139.67it/s]\n"
     ]
    },
    {
     "name": "stdout",
     "output_type": "stream",
     "text": [
      "Insufficient test accuracy data.\n",
      "LR: 0.10470379786343671\n",
      "\n"
     ]
    },
    {
     "name": "stderr",
     "output_type": "stream",
     "text": [
      "Train ==> Epochs: 1 Batch:  468 loss: 0.07999590039253235 Accuracy: 97.16% : 100%|\u001b[33m██████████████████████████\u001b[0m| 469/469 [00:11<00:00, 41.78it/s]\u001b[0m\n",
      "Test ==> Epochs: 1 Batch:  78 loss: 0.04003035141229629 Accuracy: 98.68% : 100%|█████████████████████████████| 79/79 [00:00<00:00, 140.92it/s]\n"
     ]
    },
    {
     "name": "stdout",
     "output_type": "stream",
     "text": [
      "Conditions not met for saving the model.\n",
      "LR: 0.10470379786343671\n",
      "\n"
     ]
    },
    {
     "name": "stderr",
     "output_type": "stream",
     "text": [
      "Train ==> Epochs: 2 Batch:  468 loss: 0.06669685989618301 Accuracy: 97.56% : 100%|\u001b[33m██████████████████████████\u001b[0m| 469/469 [00:11<00:00, 41.87it/s]\u001b[0m\n",
      "Test ==> Epochs: 2 Batch:  78 loss: 0.038444595198333265 Accuracy: 98.84% : 100%|████████████████████████████| 79/79 [00:00<00:00, 141.99it/s]\n"
     ]
    },
    {
     "name": "stdout",
     "output_type": "stream",
     "text": [
      "Conditions not met for saving the model.\n",
      "LR: 0.10470379786343671\n",
      "\n"
     ]
    },
    {
     "name": "stderr",
     "output_type": "stream",
     "text": [
      "Train ==> Epochs: 3 Batch:  468 loss: 0.05630810558795929 Accuracy: 97.83% : 100%|\u001b[33m██████████████████████████\u001b[0m| 469/469 [00:11<00:00, 41.81it/s]\u001b[0m\n",
      "Test ==> Epochs: 3 Batch:  78 loss: 0.027877245303243398 Accuracy: 99.13% : 100%|████████████████████████████| 79/79 [00:00<00:00, 135.12it/s]\n"
     ]
    },
    {
     "name": "stdout",
     "output_type": "stream",
     "text": [
      "Conditions not met for saving the model.\n",
      "LR: 0.10470379786343671\n",
      "\n"
     ]
    },
    {
     "name": "stderr",
     "output_type": "stream",
     "text": [
      "Train ==> Epochs: 4 Batch:  468 loss: 0.06767883896827698 Accuracy: 97.93% : 100%|\u001b[33m██████████████████████████\u001b[0m| 469/469 [00:11<00:00, 41.73it/s]\u001b[0m\n",
      "Test ==> Epochs: 4 Batch:  78 loss: 0.02411178403198719 Accuracy: 99.30% : 100%|█████████████████████████████| 79/79 [00:00<00:00, 144.21it/s]\n"
     ]
    },
    {
     "name": "stdout",
     "output_type": "stream",
     "text": [
      "Target Achieved: 99.30% Test Accuracy!!\n",
      "LR: 0.10470379786343671\n",
      "\n"
     ]
    },
    {
     "name": "stderr",
     "output_type": "stream",
     "text": [
      "Train ==> Epochs: 5 Batch:  468 loss: 0.03669905662536621 Accuracy: 98.07% : 100%|\u001b[33m██████████████████████████\u001b[0m| 469/469 [00:11<00:00, 41.66it/s]\u001b[0m\n",
      "Test ==> Epochs: 5 Batch:  78 loss: 0.02256702058017254 Accuracy: 99.34% : 100%|█████████████████████████████| 79/79 [00:00<00:00, 147.14it/s]\n"
     ]
    },
    {
     "name": "stdout",
     "output_type": "stream",
     "text": [
      "Target Achieved: 99.34% Test Accuracy!!\n",
      "LR: 0.10470379786343671\n",
      "\n"
     ]
    },
    {
     "name": "stderr",
     "output_type": "stream",
     "text": [
      "Train ==> Epochs: 6 Batch:  468 loss: 0.08133464306592941 Accuracy: 98.09% : 100%|\u001b[33m██████████████████████████\u001b[0m| 469/469 [00:11<00:00, 41.29it/s]\u001b[0m\n",
      "Test ==> Epochs: 6 Batch:  78 loss: 0.02199115399904549 Accuracy: 99.32% : 100%|█████████████████████████████| 79/79 [00:00<00:00, 141.89it/s]\n"
     ]
    },
    {
     "name": "stdout",
     "output_type": "stream",
     "text": [
      "Conditions not met for saving the model.\n",
      "LR: 0.10470379786343671\n",
      "\n"
     ]
    },
    {
     "name": "stderr",
     "output_type": "stream",
     "text": [
      "Train ==> Epochs: 7 Batch:  468 loss: 0.07088207453489304 Accuracy: 98.23% : 100%|\u001b[33m██████████████████████████\u001b[0m| 469/469 [00:09<00:00, 47.08it/s]\u001b[0m\n",
      "Test ==> Epochs: 7 Batch:  78 loss: 0.022306216959655286 Accuracy: 99.29% : 100%|████████████████████████████| 79/79 [00:00<00:00, 143.57it/s]\n"
     ]
    },
    {
     "name": "stdout",
     "output_type": "stream",
     "text": [
      "Conditions not met for saving the model.\n",
      "LR: 0.10470379786343671\n",
      "\n"
     ]
    },
    {
     "name": "stderr",
     "output_type": "stream",
     "text": [
      "Train ==> Epochs: 8 Batch:  468 loss: 0.04231416806578636 Accuracy: 98.25% : 100%|\u001b[33m██████████████████████████\u001b[0m| 469/469 [00:11<00:00, 41.12it/s]\u001b[0m\n",
      "Test ==> Epochs: 8 Batch:  78 loss: 0.021874626899976282 Accuracy: 99.27% : 100%|████████████████████████████| 79/79 [00:00<00:00, 144.17it/s]\n"
     ]
    },
    {
     "name": "stdout",
     "output_type": "stream",
     "text": [
      "Conditions not met for saving the model.\n",
      "LR: 0.010470379786343673\n",
      "\n"
     ]
    },
    {
     "name": "stderr",
     "output_type": "stream",
     "text": [
      "Train ==> Epochs: 9 Batch:  468 loss: 0.14019548892974854 Accuracy: 98.48% : 100%|\u001b[33m██████████████████████████\u001b[0m| 469/469 [00:11<00:00, 41.67it/s]\u001b[0m\n",
      "Test ==> Epochs: 9 Batch:  78 loss: 0.018106948681175707 Accuracy: 99.46% : 100%|████████████████████████████| 79/79 [00:00<00:00, 141.57it/s]\n"
     ]
    },
    {
     "name": "stdout",
     "output_type": "stream",
     "text": [
      "Target Achieved: 99.46% Test Accuracy!!\n",
      "LR: 0.010470379786343673\n",
      "\n"
     ]
    },
    {
     "name": "stderr",
     "output_type": "stream",
     "text": [
      "Train ==> Epochs: 10 Batch:  468 loss: 0.017599599435925484 Accuracy: 98.57% : 100%|\u001b[33m████████████████████████\u001b[0m| 469/469 [00:11<00:00, 41.57it/s]\u001b[0m\n",
      "Test ==> Epochs: 10 Batch:  78 loss: 0.01723082539178431 Accuracy: 99.47% : 100%|████████████████████████████| 79/79 [00:00<00:00, 147.60it/s]\n"
     ]
    },
    {
     "name": "stdout",
     "output_type": "stream",
     "text": [
      "Target Achieved: 99.47% Test Accuracy!!\n",
      "LR: 0.010470379786343673\n",
      "\n"
     ]
    },
    {
     "name": "stderr",
     "output_type": "stream",
     "text": [
      "Train ==> Epochs: 11 Batch:  468 loss: 0.01653793454170227 Accuracy: 98.59% : 100%|\u001b[33m█████████████████████████\u001b[0m| 469/469 [00:11<00:00, 41.91it/s]\u001b[0m\n",
      "Test ==> Epochs: 11 Batch:  78 loss: 0.016916205030865966 Accuracy: 99.53% : 100%|███████████████████████████| 79/79 [00:00<00:00, 133.54it/s]\n"
     ]
    },
    {
     "name": "stdout",
     "output_type": "stream",
     "text": [
      "Target Achieved: 99.53% Test Accuracy!!\n",
      "LR: 0.010470379786343673\n",
      "\n"
     ]
    },
    {
     "name": "stderr",
     "output_type": "stream",
     "text": [
      "Train ==> Epochs: 12 Batch:  468 loss: 0.043063029646873474 Accuracy: 98.57% : 100%|\u001b[33m████████████████████████\u001b[0m| 469/469 [00:11<00:00, 40.89it/s]\u001b[0m\n",
      "Test ==> Epochs: 12 Batch:  78 loss: 0.018190599500015378 Accuracy: 99.55% : 100%|███████████████████████████| 79/79 [00:00<00:00, 143.95it/s]\n"
     ]
    },
    {
     "name": "stdout",
     "output_type": "stream",
     "text": [
      "Target Achieved: 99.55% Test Accuracy!!\n",
      "LR: 0.010470379786343673\n",
      "\n"
     ]
    },
    {
     "name": "stderr",
     "output_type": "stream",
     "text": [
      "Train ==> Epochs: 13 Batch:  468 loss: 0.06336142867803574 Accuracy: 98.61% : 100%|\u001b[33m█████████████████████████\u001b[0m| 469/469 [00:11<00:00, 41.28it/s]\u001b[0m\n",
      "Test ==> Epochs: 13 Batch:  78 loss: 0.016056551749701612 Accuracy: 99.55% : 100%|███████████████████████████| 79/79 [00:00<00:00, 142.16it/s]\n"
     ]
    },
    {
     "name": "stdout",
     "output_type": "stream",
     "text": [
      "Conditions not met for saving the model.\n",
      "LR: 0.010470379786343673\n",
      "\n"
     ]
    },
    {
     "name": "stderr",
     "output_type": "stream",
     "text": [
      "Train ==> Epochs: 14 Batch:  468 loss: 0.025118166580796242 Accuracy: 98.62% : 100%|\u001b[33m████████████████████████\u001b[0m| 469/469 [00:11<00:00, 41.65it/s]\u001b[0m\n",
      "Test ==> Epochs: 14 Batch:  78 loss: 0.017048460460454225 Accuracy: 99.55% : 100%|███████████████████████████| 79/79 [00:00<00:00, 147.96it/s]\n"
     ]
    },
    {
     "name": "stdout",
     "output_type": "stream",
     "text": [
      "Conditions not met for saving the model.\n",
      "LR: 0.010470379786343673\n",
      "\n"
     ]
    }
   ],
   "source": [
    "model,train_losses, train_accuracy,test_losses,test_accuracy= run_model(model,device,batch_size,epochs,optimizer,scheduler,use_scheduler,best_model,version,notes)"
   ]
  },
  {
   "cell_type": "code",
   "execution_count": 18,
   "id": "900e93b2-ff48-45a4-909b-1d36f7fc648c",
   "metadata": {},
   "outputs": [
    {
     "name": "stdout",
     "output_type": "stream",
     "text": [
      "Max Train Accuracy:  0.98625\n",
      "Max Test Accuracy:  0.9955\n"
     ]
    }
   ],
   "source": [
    "print(\"Max Train Accuracy: \",max(train_accuracy))\n",
    "print(\"Max Test Accuracy: \",max(test_accuracy))"
   ]
  },
  {
   "cell_type": "code",
   "execution_count": 21,
   "id": "50fc61af-2176-4858-8267-a52b6a9e0b92",
   "metadata": {},
   "outputs": [
    {
     "data": {
      "image/png": "[encoded data removed]",
      "text/plain": [
       "<Figure size 1200x500 with 2 Axes>"
      ]
     },
     "metadata": {},
     "output_type": "display_data"
    }
   ],
   "source": [
    "import matplotlib.pyplot as plt\n",
    "# Create a figure with 1 row and 2 columns of subplots\n",
    "fig, axes = plt.subplots(1, 2, figsize=(12, 5))  # Adjust figsize as needed\n",
    "\n",
    "# Plot accuracy on the first subplot\n",
    "_= axes[0].plot(train_accuracy, label=\"Train Accuracy\")\n",
    "_= axes[0].plot(test_accuracy, label=\"Test Accuracy\")\n",
    "_= axes[0].set_title(\"Model Accuracy\")\n",
    "_= axes[0].set_xlabel(\"Epochs\")\n",
    "_= axes[0].set_ylabel(\"Accuracy\")\n",
    "_= axes[0].legend()\n",
    "\n",
    "# Plot loss on the second subplot\n",
    "_= axes[1].plot(train_losses, label=\"Train Loss\")\n",
    "_= axes[1].plot(test_losses, label=\"Test Loss\")\n",
    "_= axes[1].set_title(\"Model Loss\")\n",
    "_= axes[1].set_xlabel(\"Epochs\")\n",
    "_= axes[1].set_ylabel(\"Loss\")\n",
    "_= axes[1].legend()\n",
    "\n",
    "# Adjust layout and display the plots\n",
    "_= plt.tight_layout()\n",
    "_= plt.show()"
   ]
  },
  {
   "cell_type": "code",
   "execution_count": null,
   "id": "039a8435-4e8a-40c2-893d-8c5e517c44d5",
   "metadata": {},
   "outputs": [],
   "source": []
  },
  {
   "cell_type": "code",
   "execution_count": null,
   "id": "f009ccce-ba81-4bd3-9588-1910127d437c",
   "metadata": {},
   "outputs": [],
   "source": []
  },
  {
   "cell_type": "code",
   "execution_count": 8,
   "id": "5baf1eed-9c54-4dbf-8bba-16b0d64b9e0b",
   "metadata": {},
   "outputs": [],
   "source": [
    "import sys\n",
    "import os\n",
    "import logging\n",
    "from tqdm import tqdm\n",
    "import torch\n",
    "from torchvision import transforms\n",
    "from PIL import Image\n",
    "from model.model import Net\n",
    "import json\n",
    "import os\n",
    "import sys\n",
    "from utils.data_loader import MNISTDataLoader\n",
    "from torchvision import datasets\n",
    "from torch.utils.data import Dataset, ConcatDataset\n",
    "import matplotlib.pyplot as plt"
   ]
  },
  {
   "cell_type": "code",
   "execution_count": null,
   "id": "be0cd7c2-ebe4-42d6-a1f8-777fc9228af5",
   "metadata": {},
   "outputs": [
    {
     "name": "stderr",
     "output_type": "stream",
     "text": [
      "2024-12-12 22:32:43,622 - INFO - Loading configuration...\n",
      "2024-12-12 22:32:43,628 - INFO - Using device: cuda\n",
      "2024-12-12 22:32:43,725 - INFO - Loading model: modelbest_0.9955_epoch_12.pt\n",
      "2024-12-12 22:32:43,734 - INFO - Model loaded successfully.\n",
      "2024-12-12 22:32:52,800 - INFO - Starting validation on train dataset...\n",
      "Validating train:   0%|                                                                                            | 0/469 [00:00<?, ?batch/s]"
     ]
    }
   ],
   "source": [
    "# Set up logging\n",
    "# logging.basicConfig(level=logging.INFO, format='%(asctime)s - %(levelname)s - %(message)s')\n",
    "\n",
    "# Set up the path for the model and configuration\n",
    "# sys.path.append(os.path.dirname(os.path.dirname(os.path.abspath(__file__))))\n",
    "\n",
    "def load_best_model(path=\"\", device=\"cuda\"):\n",
    "    scores = []\n",
    "    for index, file in enumerate(os.listdir(path)):\n",
    "        if file.endswith(\".pt\"):\n",
    "            scores.append(float(file.split(\"_\")[1]))\n",
    "\n",
    "    best_score = max(scores)\n",
    "    max_acc = scores.index(best_score)\n",
    "    name = os.listdir(path)[max_acc]\n",
    "    model = Net().to(device)\n",
    "\n",
    "    # Log the model being loaded\n",
    "    logging.info(f\"Loading model: {name}\")\n",
    "\n",
    "    # Load the state_dict from the saved model with weights_only=True\n",
    "    checkpoint = torch.load(f'./model_folder/{name}', map_location=device, weights_only=True)\n",
    "\n",
    "    # Load only the matching parameters\n",
    "    model_dict = model.state_dict()\n",
    "    pretrained_dict = checkpoint['state_dict'] if 'state_dict' in checkpoint else checkpoint\n",
    "\n",
    "    # Filter out unnecessary keys\n",
    "    pretrained_dict = {k: v for k, v in pretrained_dict.items() if k in model_dict and model_dict[k].size() == v.size()}\n",
    "\n",
    "    # Overwrite entries in the existing state dict\n",
    "    model_dict.update(pretrained_dict)\n",
    "    model.load_state_dict(model_dict)\n",
    "\n",
    "    model.eval()\n",
    "    return model\n",
    "\n",
    "def infer(model, device, image_path, mean, std):\n",
    "    transform = transforms.Compose([\n",
    "        transforms.Resize((28, 28)),\n",
    "        transforms.ToTensor(),\n",
    "        transforms.Normalize((mean,), (std,))\n",
    "    ])\n",
    "    \n",
    "    # Load and preprocess the image\n",
    "    image = Image.open(image_path).convert('L')  # Convert to grayscale\n",
    "    image = transform(image).unsqueeze(0).to(device)  # Add batch dimension and move to device\n",
    "\n",
    "    with torch.no_grad():\n",
    "        output = model(image)\n",
    "        prediction = output.argmax(dim=1, keepdim=True)  # Get the predicted class\n",
    "\n",
    "    return prediction.item()  # Return the predicted class as an integer\n",
    "\n",
    "def load_config():\n",
    "    with open('config.json', 'r') as f:\n",
    "        return json.load(f)\n",
    "\n",
    "def get_data_loaders(mean, std):\n",
    "    train_transforms = transforms.Compose([\n",
    "        transforms.Resize((28, 28)),\n",
    "        # transforms.ColorJitter(brightness=0.1, contrast=0.1, saturation=0.1, hue=0.1),\n",
    "        transforms.RandomPerspective(distortion_scale=0.2, p=0.5, interpolation=transforms.InterpolationMode.NEAREST),\n",
    "        transforms.RandomRotation(degrees=15, expand=False, center=None, fill=(mean) ),\n",
    "        transforms.ToTensor(),\n",
    "        transforms.Normalize((mean,), (std,))\n",
    "    ])\n",
    "\n",
    "    test_transforms = transforms.Compose([\n",
    "        transforms.Resize((28, 28)),\n",
    "        transforms.ToTensor(),\n",
    "        transforms.Normalize((mean,), (std,))\n",
    "    ])\n",
    "    \n",
    "    train_data = datasets.MNIST(\n",
    "        root='.data',\n",
    "        train=True,\n",
    "        download=True,\n",
    "        transform=train_transforms  # Use train_transforms\n",
    "    )\n",
    "\n",
    "    test_data = datasets.MNIST(\n",
    "        root='.data',\n",
    "        train=False,\n",
    "        download=True,\n",
    "        transform=test_transforms  # Use test_transforms\n",
    "    )\n",
    "    \n",
    "    return train_data, test_data\n",
    "\n",
    "def validate_model(model, device, data_loader, source):\n",
    "    model.eval()\n",
    "    incorrect_predictions = []\n",
    "    \n",
    "    with torch.no_grad():\n",
    "        for images, labels in tqdm(data_loader, desc=f\"Validating {source}\", unit=\"batch\"):\n",
    "            images = images.to(device)\n",
    "            labels = labels.to(device)\n",
    "            outputs = model(images)\n",
    "            _, predicted = torch.max(outputs, 1)\n",
    "            incorrect_indices = (predicted != labels).nonzero(as_tuple=True)[0]\n",
    "            \n",
    "            for index in incorrect_indices:\n",
    "                # Get the confidence score (maximum probability)\n",
    "                confidence = torch.softmax(outputs[index], dim=0).max().item()\n",
    "                incorrect_predictions.append({\n",
    "                    'image': images[index].cpu(),\n",
    "                    'predicted': predicted[index].cpu().item(),\n",
    "                    'actual': labels[index].cpu().item(),\n",
    "                    'confidence': confidence,  # Store the confidence score\n",
    "                    'source': source\n",
    "                })\n",
    "    \n",
    "    # Sort by confidence score in ascending order\n",
    "    incorrect_predictions.sort(key=lambda x: x['confidence'])\n",
    "    return incorrect_predictions\n",
    "\n",
    "def plot_incorrect_predictions(incorrect_data, max_images=20, source=\"\"):\n",
    "    num_incorrect = len(incorrect_data)\n",
    "    num_to_plot = min(num_incorrect, max_images)\n",
    "    cols = 5\n",
    "    rows = (num_to_plot // cols) + (num_to_plot % cols > 0)\n",
    "\n",
    "    plt.figure(figsize=(15, rows * 2))\n",
    "    for i, item in enumerate(incorrect_data[:num_to_plot]):\n",
    "        plt.subplot(rows, cols, i + 1)\n",
    "        plt.imshow(item['image'].squeeze(), cmap='gray')\n",
    "        plt.title(f'Actual: {item[\"actual\"]}\\nPred: {item[\"predicted\"]}\\nConf: {item[\"confidence\"]:.3f}', \n",
    "                 fontsize=8)\n",
    "        plt.axis('off')\n",
    "\n",
    "    plt.suptitle(f\"Top {num_to_plot} Lowest Confidence Incorrect Predictions\\nfrom {source} Dataset\", \n",
    "                fontsize=12)\n",
    "    plt.tight_layout()\n",
    "    plt.show()\n",
    "\n",
    "if __name__ == \"__main__\":\n",
    "    logging.info(\"Loading configuration...\")\n",
    "    config = load_config()\n",
    "    \n",
    "    # Set device\n",
    "    device = \"cuda\" if torch.cuda.is_available() else \"cpu\"\n",
    "    logging.info(f\"Using device: {device}\")\n",
    "    \n",
    "    # Load model\n",
    "    model_path = './model_folder/'  # Specify the correct path to your model folder\n",
    "    model = load_best_model(model_path, device)  # Pass the model path and device\n",
    "    logging.info(\"Model loaded successfully.\")\n",
    "    \n",
    "    # Create an instance of MNISTDataLoader to get mean and std\n",
    "    data_loader_instance = MNISTDataLoader()\n",
    "    mean_val, std_val = data_loader_instance._calculate_stats()  # Get mean and std values\n",
    "\n",
    "    # Get train and test datasets\n",
    "    train_data, test_data = get_data_loaders(mean_val, std_val)\n",
    "\n",
    "    # Create DataLoaders for train and test datasets with batch size 128\n",
    "    train_loader = torch.utils.data.DataLoader(train_data, batch_size=128, shuffle=False)\n",
    "    test_loader = torch.utils.data.DataLoader(test_data, batch_size=128, shuffle=False)\n",
    "\n",
    "    # Validate the model and get incorrect predictions for train and test datasets\n",
    "    logging.info(\"Starting validation on train dataset...\")\n",
    "    incorrect_train_data = validate_model(model, device, train_loader, \"train\")\n",
    "    logging.info(f'Number of incorrect predictions in train dataset: {len(incorrect_train_data)}')\n",
    "\n",
    "    logging.info(\"Starting validation on test dataset...\")\n",
    "    incorrect_test_data = validate_model(model, device, test_loader, \"test\")\n",
    "    logging.info(f'Number of incorrect predictions in test dataset: {len(incorrect_test_data)}')\n",
    "\n",
    "    # Plot incorrect predictions\n",
    "    plot_incorrect_predictions(incorrect_train_data, max_images=40, source=\"Train\")"
   ]
  },
  {
   "cell_type": "code",
   "execution_count": null,
   "id": "b4ad0a4e-19d2-480b-ada3-feefbdaa4819",
   "metadata": {},
   "outputs": [],
   "source": [
    "plot_incorrect_predictions(incorrect_test_data, max_images=60, source=\"Test\")"
   ]
  },
  {
   "cell_type": "code",
   "execution_count": null,
   "id": "2133770e-38e0-479a-83c8-2f5cdd595434",
   "metadata": {},
   "outputs": [],
   "source": []
  }
 ],
 "metadata": {
  "kernelspec": {
   "display_name": "Python 3 (ipykernel)",
   "language": "python",
   "name": "python3"
  },
  "language_info": {
   "codemirror_mode": {
    "name": "ipython",
    "version": 3
   },
   "file_extension": ".py",
   "mimetype": "text/x-python",
   "name": "python",
   "nbconvert_exporter": "python",
   "pygments_lexer": "ipython3",
   "version": "3.12.7"
  }
 },
 "nbformat": 4,
 "nbformat_minor": 5
}
